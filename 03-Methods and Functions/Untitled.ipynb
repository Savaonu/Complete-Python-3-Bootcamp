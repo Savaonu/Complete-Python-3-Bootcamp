{
 "cells": [
  {
   "cell_type": "code",
   "execution_count": 65,
   "id": "9a7dab9e",
   "metadata": {},
   "outputs": [],
   "source": [
    "a = 'Levelheaded Llama caca'"
   ]
  },
  {
   "cell_type": "code",
   "execution_count": 39,
   "id": "b886f34d",
   "metadata": {},
   "outputs": [
    {
     "data": {
      "text/plain": [
       "'Lev'"
      ]
     },
     "execution_count": 39,
     "metadata": {},
     "output_type": "execute_result"
    }
   ],
   "source": [
    " a[0:3].capitalize()"
   ]
  },
  {
   "cell_type": "code",
   "execution_count": 66,
   "id": "b4ae3ed5",
   "metadata": {},
   "outputs": [
    {
     "data": {
      "text/plain": [
       "['Levelheaded', 'Llama', 'caca']"
      ]
     },
     "execution_count": 66,
     "metadata": {},
     "output_type": "execute_result"
    }
   ],
   "source": [
    "b = a.split()\n",
    "b\n"
   ]
  },
  {
   "cell_type": "code",
   "execution_count": 68,
   "id": "6781ca33",
   "metadata": {},
   "outputs": [
    {
     "data": {
      "text/plain": [
       "['caca', 'Llama', 'Levelheaded']"
      ]
     },
     "execution_count": 68,
     "metadata": {},
     "output_type": "execute_result"
    }
   ],
   "source": [
    "b[::-1]"
   ]
  },
  {
   "cell_type": "code",
   "execution_count": null,
   "id": "1dc76267",
   "metadata": {},
   "outputs": [],
   "source": []
  },
  {
   "cell_type": "code",
   "execution_count": 92,
   "id": "7da4df3d",
   "metadata": {},
   "outputs": [],
   "source": [
    "n = 150"
   ]
  },
  {
   "cell_type": "code",
   "execution_count": 97,
   "id": "204bb9d3",
   "metadata": {},
   "outputs": [],
   "source": [
    "a = 'sdasd'"
   ]
  },
  {
   "cell_type": "code",
   "execution_count": 98,
   "id": "dd2f353a",
   "metadata": {},
   "outputs": [
    {
     "name": "stdout",
     "output_type": "stream",
     "text": [
      "<class 'str'>\n"
     ]
    }
   ],
   "source": [
    "print(type(a))"
   ]
  }
 ],
 "metadata": {
  "kernelspec": {
   "display_name": "Python 3 (ipykernel)",
   "language": "python",
   "name": "python3"
  },
  "language_info": {
   "codemirror_mode": {
    "name": "ipython",
    "version": 3
   },
   "file_extension": ".py",
   "mimetype": "text/x-python",
   "name": "python",
   "nbconvert_exporter": "python",
   "pygments_lexer": "ipython3",
   "version": "3.9.7"
  }
 },
 "nbformat": 4,
 "nbformat_minor": 5
}
